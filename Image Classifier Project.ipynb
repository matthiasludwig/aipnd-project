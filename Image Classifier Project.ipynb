{
 "cells": [
  {
   "cell_type": "markdown",
   "metadata": {},
   "source": [
    "# Developing an AI application\n",
    "\n",
    "Going forward, AI algorithms will be incorporated into more and more everyday applications. For example, you might want to include an image classifier in a smart phone app. To do this, you'd use a deep learning model trained on hundreds of thousands of images as part of the overall application architecture. A large part of software development in the future will be using these types of models as common parts of applications. \n",
    "\n",
    "In this project, you'll train an image classifier to recognize different species of flowers. You can imagine using something like this in a phone app that tells you the name of the flower your camera is looking at. In practice you'd train this classifier, then export it for use in your application. We'll be using [this dataset](http://www.robots.ox.ac.uk/~vgg/data/flowers/102/index.html) of 102 flower categories, you can see a few examples below. \n",
    "\n",
    "<img src='assets/Flowers.png' width=500px>\n",
    "\n",
    "The project is broken down into multiple steps:\n",
    "\n",
    "* Load and preprocess the image dataset\n",
    "* Train the image classifier on your dataset\n",
    "* Use the trained classifier to predict image content\n",
    "\n",
    "We'll lead you through each part which you'll implement in Python.\n",
    "\n",
    "When you've completed this project, you'll have an application that can be trained on any set of labeled images. Here your network will be learning about flowers and end up as a command line application. But, what you do with your new skills depends on your imagination and effort in building a dataset. For example, imagine an app where you take a picture of a car, it tells you what the make and model is, then looks up information about it. Go build your own dataset and make something new.\n",
    "\n",
    "First up is importing the packages you'll need. It's good practice to keep all the imports at the beginning of your code. As you work through this notebook and find you need to import a package, make sure to add the import up here."
   ]
  },
  {
   "cell_type": "code",
   "execution_count": 1,
   "metadata": {},
   "outputs": [],
   "source": [
    "%matplotlib inline\n",
    "%config Inline.Backend.figure_format = 'retina'\n",
    "\n",
    "import matplotlib.pyplot as plt\n",
    "\n",
    "import torch\n",
    "from torch import nn\n",
    "from torch import optim\n",
    "import torch.nn.functional as F\n",
    "from torchvision import datasets, models, transforms\n",
    "from collections import OrderedDict"
   ]
  },
  {
   "cell_type": "markdown",
   "metadata": {},
   "source": [
    "## Load the data\n",
    "\n",
    "Here you'll use `torchvision` to load the data ([documentation](http://pytorch.org/docs/0.3.0/torchvision/index.html)). The data should be included alongside this notebook, otherwise you can [download it here](https://s3.amazonaws.com/content.udacity-data.com/nd089/flower_data.tar.gz). The dataset is split into three parts, training, validation, and testing. For the training, you'll want to apply transformations such as random scaling, cropping, and flipping. This will help the network generalize leading to better performance. You'll also need to make sure the input data is resized to 224x224 pixels as required by the pre-trained networks.\n",
    "\n",
    "The validation and testing sets are used to measure the model's performance on data it hasn't seen yet. For this you don't want any scaling or rotation transformations, but you'll need to resize then crop the images to the appropriate size.\n",
    "\n",
    "The pre-trained networks you'll use were trained on the ImageNet dataset where each color channel was normalized separately. For all three sets you'll need to normalize the means and standard deviations of the images to what the network expects. For the means, it's `[0.485, 0.456, 0.406]` and for the standard deviations `[0.229, 0.224, 0.225]`, calculated from the ImageNet images.  These values will shift each color channel to be centered at 0 and range from -1 to 1.\n",
    " "
   ]
  },
  {
   "cell_type": "code",
   "execution_count": 2,
   "metadata": {},
   "outputs": [],
   "source": [
    "data_dir = 'flowers'\n",
    "train_dir = data_dir + '/train'\n",
    "valid_dir = data_dir + '/valid'\n",
    "test_dir = data_dir + '/test'"
   ]
  },
  {
   "cell_type": "code",
   "execution_count": 27,
   "metadata": {},
   "outputs": [],
   "source": [
    "# Define your transforms for the training, validation, and testing sets\n",
    "train_transforms = transforms.Compose([transforms.Resize(224),\n",
    "                                       transforms.RandomRotation(30),\n",
    "                                       transforms.RandomResizedCrop(224),\n",
    "                                       transforms.RandomHorizontalFlip(),\n",
    "                                       transforms.ToTensor(),\n",
    "                                       transforms.Normalize([0.485, 0.456, 0.406], \n",
    "                                                            [0.229, 0.224, 0.225])])\n",
    "valid_transforms = transforms.Compose([transforms.Resize(256),\n",
    "                                      transforms.CenterCrop(224),\n",
    "                                      transforms.ToTensor(),\n",
    "                                      transforms.Normalize([0.485, 0.456, 0.406], \n",
    "                                                           [0.229, 0.224, 0.225])])\n",
    "test_transforms = transforms.Compose([transforms.Resize(256),\n",
    "                                      transforms.CenterCrop(224),\n",
    "                                      transforms.ToTensor(),\n",
    "                                      transforms.Normalize([0.485, 0.456, 0.406], \n",
    "                                                           [0.229, 0.224, 0.225])])\n",
    "\n",
    "# Load the datasets with ImageFolder\n",
    "train_data = datasets.ImageFolder(train_dir, transform=train_transforms)\n",
    "valid_data = datasets.ImageFolder(valid_dir, transform=valid_transforms)\n",
    "test_data = datasets.ImageFolder(test_dir, transform=test_transforms)\n",
    "\n",
    "# Using the image datasets and the trainforms, define the dataloaders\n",
    "trainloader = torch.utils.data.DataLoader(train_data, batch_size=64, shuffle=True)\n",
    "validloader = torch.utils.data.DataLoader(valid_data, batch_size=64, shuffle=False)\n",
    "testloader = torch.utils.data.DataLoader(test_data, batch_size=64, shuffle=False)"
   ]
  },
  {
   "cell_type": "code",
   "execution_count": 30,
   "metadata": {},
   "outputs": [
    {
     "name": "stdout",
     "output_type": "stream",
     "text": [
      "torch.Size([64, 3, 224, 224])\n",
      "tensor([[[[-1.0390, -1.0390, -1.0390,  ..., -0.7993, -0.7479, -0.7308],\n",
      "          [-1.0562, -1.0562, -1.0562,  ..., -0.7822, -0.7308, -0.7137],\n",
      "          [-1.0562, -1.0562, -1.0562,  ..., -0.7650, -0.7137, -0.6965],\n",
      "          ...,\n",
      "          [ 1.6838,  1.7352,  1.7694,  ..., -1.4158, -1.4158, -1.4329],\n",
      "          [ 1.7352,  1.7180,  1.7180,  ..., -1.3815, -1.3815, -1.3987],\n",
      "          [ 1.6495,  1.6324,  1.6324,  ..., -1.3644, -1.3644, -1.3815]],\n",
      "\n",
      "         [[-0.4776, -0.4776, -0.4601,  ..., -0.3901, -0.3375, -0.3025],\n",
      "          [-0.4601, -0.4601, -0.4426,  ..., -0.3550, -0.3025, -0.2675],\n",
      "          [-0.4601, -0.4426, -0.4251,  ..., -0.3375, -0.2850, -0.2500],\n",
      "          ...,\n",
      "          [ 0.2227,  0.0126, -0.1975,  ..., -1.1429, -1.1779, -1.2129],\n",
      "          [ 0.1176, -0.1275, -0.3725,  ..., -1.1078, -1.1429, -1.1779],\n",
      "          [-0.0574, -0.3025, -0.5126,  ..., -1.0903, -1.1253, -1.1429]],\n",
      "\n",
      "         [[-1.0898, -1.0898, -1.0898,  ..., -0.6715, -0.6367, -0.6193],\n",
      "          [-1.0724, -1.0724, -1.0724,  ..., -0.6541, -0.6193, -0.6018],\n",
      "          [-1.0724, -1.0550, -1.0550,  ..., -0.6541, -0.6018, -0.5844],\n",
      "          ...,\n",
      "          [ 1.9603,  1.9951,  1.9777,  ..., -1.2990, -1.2990, -1.2816],\n",
      "          [ 2.0125,  1.9603,  1.9080,  ..., -1.2816, -1.2816, -1.2641],\n",
      "          [ 1.9080,  1.8557,  1.8034,  ..., -1.2641, -1.2641, -1.2467]]],\n",
      "\n",
      "\n",
      "        [[[-2.1179, -2.1179, -2.1179,  ...,  1.8379,  1.9407,  2.0948],\n",
      "          [-2.1179, -2.1179, -2.1179,  ...,  1.8722,  1.8722,  1.9749],\n",
      "          [-2.1179, -2.1179, -2.1179,  ...,  1.9749,  1.9407,  1.9407],\n",
      "          ...,\n",
      "          [-1.7754, -1.7754, -1.7754,  ..., -1.7925, -1.8097, -1.7925],\n",
      "          [-1.7754, -1.7754, -1.7754,  ..., -1.7583, -1.7925, -1.7754],\n",
      "          [-1.8268, -1.7754, -1.7754,  ..., -1.7240, -1.7583, -1.7412]],\n",
      "\n",
      "         [[-2.0357, -2.0357, -2.0357,  ...,  0.3803,  0.2577,  0.2052],\n",
      "          [-2.0357, -2.0357, -2.0357,  ...,  0.4853,  0.2227,  0.1001],\n",
      "          [-2.0357, -2.0357, -2.0357,  ...,  0.6779,  0.5203,  0.3277],\n",
      "          ...,\n",
      "          [-0.5476, -0.5476, -0.5651,  ..., -1.3004, -1.3004, -1.3354],\n",
      "          [-0.5301, -0.5476, -0.5651,  ..., -1.3704, -1.3179, -1.3529],\n",
      "          [-0.5301, -0.5301, -0.5476,  ..., -1.4055, -1.3529, -1.3529]],\n",
      "\n",
      "         [[-1.8044, -1.8044, -1.8044,  ...,  1.8905,  1.8557,  1.8731],\n",
      "          [-1.8044, -1.8044, -1.8044,  ...,  1.9777,  1.8208,  1.7860],\n",
      "          [-1.8044, -1.8044, -1.8044,  ...,  2.0823,  1.9777,  1.8731],\n",
      "          ...,\n",
      "          [-1.7522, -1.7522, -1.7696,  ..., -1.8044, -1.7870, -1.8044],\n",
      "          [-1.7347, -1.7522, -1.7696,  ..., -1.7870, -1.8044, -1.8044],\n",
      "          [-1.7696, -1.7347, -1.7522,  ..., -1.7696, -1.7870, -1.7696]]],\n",
      "\n",
      "\n",
      "        [[[-0.9705, -1.0390, -1.1075,  ..., -0.7650, -0.7137, -0.6794],\n",
      "          [-1.0219, -1.0904, -1.1418,  ..., -0.7822, -0.7137, -0.6794],\n",
      "          [-1.0733, -1.1418, -1.1760,  ..., -0.7993, -0.7308, -0.6965],\n",
      "          ...,\n",
      "          [-1.0390, -1.0904, -1.1075,  ...,  0.5364,  0.6392,  0.7077],\n",
      "          [-1.0219, -1.0733, -1.1075,  ...,  0.5364,  0.6392,  0.6734],\n",
      "          [-1.0048, -1.0733, -1.1075,  ...,  0.5364,  0.6392,  0.6392]],\n",
      "\n",
      "         [[-0.3375, -0.4076, -0.4776,  ..., -0.0049,  0.0651,  0.1001],\n",
      "          [-0.4426, -0.4951, -0.5301,  ..., -0.0049,  0.0651,  0.1001],\n",
      "          [-0.5476, -0.6001, -0.6001,  ..., -0.0049,  0.0651,  0.1001],\n",
      "          ...,\n",
      "          [-0.8277, -0.8978, -0.9328,  ...,  0.2577,  0.4503,  0.5378],\n",
      "          [-0.8102, -0.8978, -0.9503,  ...,  0.2752,  0.4678,  0.5553],\n",
      "          [-0.8102, -0.8978, -0.9678,  ...,  0.3102,  0.4853,  0.5553]],\n",
      "\n",
      "         [[-1.1596, -1.2119, -1.2119,  ..., -0.9156, -0.9853, -1.0201],\n",
      "          [-1.2119, -1.2293, -1.1944,  ..., -0.9156, -0.9504, -0.9504],\n",
      "          [-1.2467, -1.2467, -1.1770,  ..., -0.9330, -0.8981, -0.8807],\n",
      "          ...,\n",
      "          [-1.2990, -1.2119, -1.0898,  ...,  1.0365,  1.2108,  1.3154],\n",
      "          [-1.1944, -1.1247, -1.0201,  ...,  1.0888,  1.2282,  1.2805],\n",
      "          [-1.1247, -1.0724, -0.9853,  ...,  1.1411,  1.2457,  1.2457]]],\n",
      "\n",
      "\n",
      "        ...,\n",
      "\n",
      "\n",
      "        [[[-1.3815, -1.4158, -1.4329,  ..., -2.1179, -2.1179, -2.1179],\n",
      "          [-1.3987, -1.4329, -1.4672,  ..., -2.1179, -2.1179, -2.1179],\n",
      "          [-1.4329, -1.4672, -1.5185,  ..., -2.1179, -2.1179, -2.1179],\n",
      "          ...,\n",
      "          [-0.9192, -0.9534, -1.0733,  ..., -0.6452, -0.7479, -0.8335],\n",
      "          [-0.9534, -1.0048, -1.0562,  ..., -0.6794, -0.7822, -0.8335],\n",
      "          [-0.9877, -1.0390, -1.0562,  ..., -0.7137, -0.7993, -0.8335]],\n",
      "\n",
      "         [[-1.4930, -1.5105, -1.5280,  ..., -2.0357, -2.0357, -2.0357],\n",
      "          [-1.4930, -1.5280, -1.5630,  ..., -2.0357, -2.0357, -2.0357],\n",
      "          [-1.4755, -1.5630, -1.6155,  ..., -2.0357, -2.0357, -2.0357],\n",
      "          ...,\n",
      "          [-1.0378, -1.0553, -1.1604,  ..., -0.5301, -0.7052, -0.8452],\n",
      "          [-1.0728, -1.1078, -1.1604,  ..., -0.5651, -0.7402, -0.8452],\n",
      "          [-1.1078, -1.1429, -1.1604,  ..., -0.6001, -0.7577, -0.8452]],\n",
      "\n",
      "         [[-1.5430, -1.5953, -1.6127,  ..., -1.8044, -1.8044, -1.8044],\n",
      "          [-1.5604, -1.5953, -1.6127,  ..., -1.8044, -1.8044, -1.8044],\n",
      "          [-1.5779, -1.5779, -1.5953,  ..., -1.8044, -1.8044, -1.8044],\n",
      "          ...,\n",
      "          [-1.0898, -1.1073, -1.1770,  ..., -1.1421, -1.1944, -1.2467],\n",
      "          [-1.1247, -1.1596, -1.1944,  ..., -1.1596, -1.2119, -1.2467],\n",
      "          [-1.1596, -1.1944, -1.2119,  ..., -1.1770, -1.2293, -1.2467]]],\n",
      "\n",
      "\n",
      "        [[[ 0.7933,  0.7933,  0.7762,  ..., -0.1314, -0.4054, -0.6281],\n",
      "          [ 0.7933,  0.8276,  0.8447,  ..., -0.1828, -0.5424, -0.7993],\n",
      "          [ 0.4337,  0.6906,  0.7077,  ..., -0.4054, -0.6965, -0.9020],\n",
      "          ...,\n",
      "          [ 1.6153,  1.5982,  1.5468,  ...,  1.4098,  1.4098,  1.4269],\n",
      "          [ 1.6667,  1.6324,  1.6153,  ...,  1.4098,  1.4269,  1.4098],\n",
      "          [ 1.7009,  1.6838,  1.6838,  ...,  1.4098,  1.4269,  1.4269]],\n",
      "\n",
      "         [[ 1.0105,  0.9755,  0.9405,  ...,  0.2752, -0.0749, -0.2675],\n",
      "          [ 1.0280,  1.0455,  1.0630,  ...,  0.2577, -0.1975, -0.4776],\n",
      "          [ 0.6604,  0.9230,  0.9580,  ..., -0.0049, -0.3375, -0.4601],\n",
      "          ...,\n",
      "          [ 1.7458,  1.7283,  1.6758,  ...,  1.6232,  1.6232,  1.6408],\n",
      "          [ 1.7983,  1.7633,  1.7458,  ...,  1.6232,  1.6408,  1.6232],\n",
      "          [ 1.8333,  1.8158,  1.8158,  ...,  1.6232,  1.6408,  1.6408]],\n",
      "\n",
      "         [[ 1.2457,  1.2282,  1.1934,  ..., -0.8633, -0.9678, -1.1073],\n",
      "          [ 1.1237,  1.1934,  1.2108,  ..., -0.9678, -1.1421, -1.3339],\n",
      "          [ 0.5311,  0.9145,  0.9319,  ..., -1.1596, -1.2467, -1.3513],\n",
      "          ...,\n",
      "          [ 2.1520,  2.1346,  2.0823,  ...,  1.9951,  1.9951,  2.0125],\n",
      "          [ 2.2043,  2.1694,  2.1520,  ...,  1.9951,  2.0125,  1.9951],\n",
      "          [ 2.2391,  2.2217,  2.2217,  ...,  1.9951,  2.0125,  2.0125]]],\n",
      "\n",
      "\n",
      "        [[[-1.0048,  0.0056,  1.2043,  ...,  2.0948,  2.0777,  2.0777],\n",
      "          [ 0.0569,  0.6392,  1.3413,  ...,  2.0948,  2.0777,  2.0605],\n",
      "          [ 1.4954,  1.5125,  1.5468,  ...,  2.0948,  2.0605,  2.0263],\n",
      "          ...,\n",
      "          [ 2.0777,  2.0605,  2.0263,  ..., -1.2445, -1.2788, -1.2959],\n",
      "          [ 2.1290,  2.0948,  2.0263,  ..., -1.2445, -1.2617, -1.2788],\n",
      "          [ 2.1633,  2.1119,  2.0263,  ..., -1.2445, -1.2617, -1.2617]],\n",
      "\n",
      "         [[-1.0378, -0.3375,  0.4853,  ...,  0.3277,  0.2927,  0.2752],\n",
      "          [-0.3200,  0.0651,  0.5378,  ...,  0.3277,  0.2927,  0.2577],\n",
      "          [ 0.6429,  0.6254,  0.6078,  ...,  0.3277,  0.2752,  0.2227],\n",
      "          ...,\n",
      "          [ 0.8529,  0.7654,  0.6254,  ..., -0.4601, -0.4776, -0.4776],\n",
      "          [ 0.8179,  0.7479,  0.6254,  ..., -0.4426, -0.4601, -0.4601],\n",
      "          [ 0.8004,  0.7304,  0.6254,  ..., -0.4251, -0.4426, -0.4601]],\n",
      "\n",
      "         [[-0.6715,  0.1651,  1.1759,  ...,  1.5768,  1.5594,  1.5420],\n",
      "          [ 0.2173,  0.7054,  1.2805,  ...,  1.5768,  1.5594,  1.5245],\n",
      "          [ 1.4200,  1.4200,  1.4374,  ...,  1.5768,  1.5420,  1.5071],\n",
      "          ...,\n",
      "          [ 2.1346,  1.6814,  1.0888,  ..., -1.1770, -1.1770, -1.1944],\n",
      "          [ 1.9254,  1.5768,  1.0714,  ..., -1.2119, -1.1770, -1.1596],\n",
      "          [ 1.7511,  1.4722,  1.0539,  ..., -1.2293, -1.1770, -1.1421]]]])\n"
     ]
    }
   ],
   "source": [
    "# Check for correct size\n",
    "print(next(iter(trainloader))[0].shape)\n",
    "print(next(iter(trainloader))[0])"
   ]
  },
  {
   "cell_type": "markdown",
   "metadata": {},
   "source": [
    "### Label mapping\n",
    "\n",
    "You'll also need to load in a mapping from category label to category name. You can find this in the file `cat_to_name.json`. It's a JSON object which you can read in with the [`json` module](https://docs.python.org/2/library/json.html). This will give you a dictionary mapping the integer encoded categories to the actual names of the flowers."
   ]
  },
  {
   "cell_type": "code",
   "execution_count": 5,
   "metadata": {},
   "outputs": [],
   "source": [
    "import json\n",
    "\n",
    "with open('cat_to_name.json', 'r') as f:\n",
    "    cat_to_name = json.load(f)"
   ]
  },
  {
   "cell_type": "code",
   "execution_count": 6,
   "metadata": {},
   "outputs": [
    {
     "name": "stdout",
     "output_type": "stream",
     "text": [
      "english marigold\n"
     ]
    }
   ],
   "source": [
    "# Check cat_to_name content\n",
    "print(cat_to_name['5'])"
   ]
  },
  {
   "cell_type": "markdown",
   "metadata": {},
   "source": [
    "# Building and training the classifier\n",
    "\n",
    "Now that the data is ready, it's time to build and train the classifier. As usual, you should use one of the pretrained models from `torchvision.models` to get the image features. Build and train a new feed-forward classifier using those features.\n",
    "\n",
    "We're going to leave this part up to you. If you want to talk through it with someone, chat with your fellow students! You can also ask questions on the forums or join the instructors in office hours.\n",
    "\n",
    "Refer to [the rubric](https://review.udacity.com/#!/rubrics/1663/view) for guidance on successfully completing this section. Things you'll need to do:\n",
    "\n",
    "- [x] <del>Load a [pre-trained network](http://pytorch.org/docs/master/torchvision/models.html) (If you need a starting point, the VGG networks work great and are straightforward to use)</del>\n",
    "- [x] <del>Define a new, untrained feed-forward network as a classifier, using ReLU activations and dropout</del>\n",
    "- [ ] Train the classifier layers using backpropagation using the pre-trained network to get the features\n",
    "- [ ] Track the loss and accuracy on the validation set to determine the best hyperparameters\n",
    "\n",
    "We've left a cell open for you below, but use as many as you need. Our advice is to break the problem up into smaller parts you can run separately. Check that each part is doing what you expect, then move on to the next. You'll likely find that as you work through each part, you'll need to go back and modify your previous code. This is totally normal!\n",
    "\n",
    "When training make sure you're updating only the weights of the feed-forward network. You should be able to get the validation accuracy above 70% if you build everything right. Make sure to try different hyperparameters (learning rate, units in the classifier, epochs, etc) to find the best model. Save those hyperparameters to use as default values in the next part of the project."
   ]
  },
  {
   "cell_type": "code",
   "execution_count": 12,
   "metadata": {},
   "outputs": [
    {
     "name": "stderr",
     "output_type": "stream",
     "text": [
      "Downloading: \"https://download.pytorch.org/models/vgg16-397923af.pth\" to /home/ubuntu/.torch/models/vgg16-397923af.pth\n",
      "100%|██████████| 553433881/553433881 [00:12<00:00, 43494759.34it/s]\n"
     ]
    },
    {
     "data": {
      "text/plain": [
       "VGG(\n",
       "  (features): Sequential(\n",
       "    (0): Conv2d(3, 64, kernel_size=(3, 3), stride=(1, 1), padding=(1, 1))\n",
       "    (1): ReLU(inplace)\n",
       "    (2): Conv2d(64, 64, kernel_size=(3, 3), stride=(1, 1), padding=(1, 1))\n",
       "    (3): ReLU(inplace)\n",
       "    (4): MaxPool2d(kernel_size=2, stride=2, padding=0, dilation=1, ceil_mode=False)\n",
       "    (5): Conv2d(64, 128, kernel_size=(3, 3), stride=(1, 1), padding=(1, 1))\n",
       "    (6): ReLU(inplace)\n",
       "    (7): Conv2d(128, 128, kernel_size=(3, 3), stride=(1, 1), padding=(1, 1))\n",
       "    (8): ReLU(inplace)\n",
       "    (9): MaxPool2d(kernel_size=2, stride=2, padding=0, dilation=1, ceil_mode=False)\n",
       "    (10): Conv2d(128, 256, kernel_size=(3, 3), stride=(1, 1), padding=(1, 1))\n",
       "    (11): ReLU(inplace)\n",
       "    (12): Conv2d(256, 256, kernel_size=(3, 3), stride=(1, 1), padding=(1, 1))\n",
       "    (13): ReLU(inplace)\n",
       "    (14): Conv2d(256, 256, kernel_size=(3, 3), stride=(1, 1), padding=(1, 1))\n",
       "    (15): ReLU(inplace)\n",
       "    (16): MaxPool2d(kernel_size=2, stride=2, padding=0, dilation=1, ceil_mode=False)\n",
       "    (17): Conv2d(256, 512, kernel_size=(3, 3), stride=(1, 1), padding=(1, 1))\n",
       "    (18): ReLU(inplace)\n",
       "    (19): Conv2d(512, 512, kernel_size=(3, 3), stride=(1, 1), padding=(1, 1))\n",
       "    (20): ReLU(inplace)\n",
       "    (21): Conv2d(512, 512, kernel_size=(3, 3), stride=(1, 1), padding=(1, 1))\n",
       "    (22): ReLU(inplace)\n",
       "    (23): MaxPool2d(kernel_size=2, stride=2, padding=0, dilation=1, ceil_mode=False)\n",
       "    (24): Conv2d(512, 512, kernel_size=(3, 3), stride=(1, 1), padding=(1, 1))\n",
       "    (25): ReLU(inplace)\n",
       "    (26): Conv2d(512, 512, kernel_size=(3, 3), stride=(1, 1), padding=(1, 1))\n",
       "    (27): ReLU(inplace)\n",
       "    (28): Conv2d(512, 512, kernel_size=(3, 3), stride=(1, 1), padding=(1, 1))\n",
       "    (29): ReLU(inplace)\n",
       "    (30): MaxPool2d(kernel_size=2, stride=2, padding=0, dilation=1, ceil_mode=False)\n",
       "  )\n",
       "  (classifier): Sequential(\n",
       "    (0): Linear(in_features=25088, out_features=4096, bias=True)\n",
       "    (1): ReLU(inplace)\n",
       "    (2): Dropout(p=0.5)\n",
       "    (3): Linear(in_features=4096, out_features=4096, bias=True)\n",
       "    (4): ReLU(inplace)\n",
       "    (5): Dropout(p=0.5)\n",
       "    (6): Linear(in_features=4096, out_features=1000, bias=True)\n",
       "  )\n",
       ")"
      ]
     },
     "execution_count": 12,
     "metadata": {},
     "output_type": "execute_result"
    }
   ],
   "source": [
    "# Load a pretrained network\n",
    "\n",
    "model = models.vgg16(pretrained=True)\n",
    "model"
   ]
  },
  {
   "cell_type": "code",
   "execution_count": 14,
   "metadata": {},
   "outputs": [
    {
     "data": {
      "text/plain": [
       "Sequential(\n",
       "  (fc1): Linear(in_features=25088, out_features=4096, bias=True)\n",
       "  (relu1): ReLU()\n",
       "  (dropout1): Dropout(p=0.5)\n",
       "  (fc2): Linear(in_features=4096, out_features=1024, bias=True)\n",
       "  (relu2): ReLU()\n",
       "  (dropout2): Dropout(p=0.5)\n",
       "  (fc3): Linear(in_features=1024, out_features=512, bias=True)\n",
       "  (relu3): ReLU()\n",
       "  (dropout3): Dropout(p=0.5)\n",
       "  (fc4): Linear(in_features=512, out_features=102, bias=True)\n",
       "  (softmax): LogSoftmax()\n",
       ")"
      ]
     },
     "execution_count": 14,
     "metadata": {},
     "output_type": "execute_result"
    }
   ],
   "source": [
    "for param in model.parameters():\n",
    "    param.requires_grad = False\n",
    "    \n",
    "classifier = nn.Sequential(OrderedDict([\n",
    "    ('fc1', nn.Linear(25088, 4096)),\n",
    "    ('relu1', nn.ReLU()),\n",
    "    ('dropout1', nn.Dropout(0.5)),\n",
    "    ('fc2', nn.Linear(4096, 1024)),\n",
    "    ('relu2', nn.ReLU()),\n",
    "    ('dropout2', nn.Dropout(0.5)),\n",
    "    ('fc3', nn.Linear(1024, 512)),\n",
    "    ('relu3', nn.ReLU()),\n",
    "    ('dropout3', nn.Dropout(0.5)),\n",
    "    ('fc4', nn.Linear(512, 102)),\n",
    "    ('softmax', nn.LogSoftmax(dim=1))\n",
    "]))\n",
    "\n",
    "model.classifier = classifier\n",
    "\n",
    "# Check if classifier is substituted\n",
    "model.classifier"
   ]
  },
  {
   "cell_type": "code",
   "execution_count": 50,
   "metadata": {},
   "outputs": [],
   "source": [
    "criterion = nn.NLLLoss()\n",
    "optimizer = optim.Adam(model.classifier.parameters(), lr=0.001)\n",
    "\n",
    "device = torch.device('cuda:0' if torch.cuda.is_available() else 'cpu')"
   ]
  },
  {
   "cell_type": "code",
   "execution_count": 51,
   "metadata": {},
   "outputs": [],
   "source": [
    "def validation(model, validloader, criterion):\n",
    "    valid_loss = 0\n",
    "    accuracy = 0\n",
    "    \n",
    "    for inputs, labels in validloader:\n",
    "        \n",
    "        inputs, labels = inputs.to(device), labels.to(device)\n",
    "        \n",
    "        output = model.forward(inputs)\n",
    "        valid_loss = criterion(output, labels).item()\n",
    "        \n",
    "        ps = torch.exp(output)\n",
    "        equality = (labels.data == ps.max(dim=1)[1])\n",
    "        accuracy += equality.type(torch.FloatTensor).mean()\n",
    "        \n",
    "    return valid_loss, accuracy"
   ]
  },
  {
   "cell_type": "code",
   "execution_count": 54,
   "metadata": {},
   "outputs": [
    {
     "name": "stdout",
     "output_type": "stream",
     "text": [
      "Epoch: 1/10..  Training Loss: 0.956..  Valid Loss: 0.046..  Valid Accuracy: 0.844\n",
      "Epoch: 1/10..  Training Loss: 1.787..  Valid Loss: 0.072..  Valid Accuracy: 0.805\n",
      "Epoch: 2/10..  Training Loss: 1.690..  Valid Loss: 0.080..  Valid Accuracy: 0.820\n",
      "Epoch: 2/10..  Training Loss: 1.760..  Valid Loss: 0.081..  Valid Accuracy: 0.806\n",
      "Epoch: 3/10..  Training Loss: 1.568..  Valid Loss: 0.093..  Valid Accuracy: 0.812\n",
      "Epoch: 3/10..  Training Loss: 1.745..  Valid Loss: 0.091..  Valid Accuracy: 0.798\n",
      "Epoch: 4/10..  Training Loss: 1.398..  Valid Loss: 0.085..  Valid Accuracy: 0.817\n",
      "Epoch: 4/10..  Training Loss: 1.668..  Valid Loss: 0.055..  Valid Accuracy: 0.810\n",
      "Epoch: 5/10..  Training Loss: 1.260..  Valid Loss: 0.091..  Valid Accuracy: 0.795\n",
      "Epoch: 5/10..  Training Loss: 1.818..  Valid Loss: 0.092..  Valid Accuracy: 0.808\n",
      "Epoch: 6/10..  Training Loss: 1.191..  Valid Loss: 0.085..  Valid Accuracy: 0.800\n",
      "Epoch: 6/10..  Training Loss: 1.780..  Valid Loss: 0.073..  Valid Accuracy: 0.800\n",
      "Epoch: 7/10..  Training Loss: 1.124..  Valid Loss: 0.087..  Valid Accuracy: 0.806\n",
      "Epoch: 7/10..  Training Loss: 1.707..  Valid Loss: 0.070..  Valid Accuracy: 0.824\n",
      "Epoch: 8/10..  Training Loss: 0.938..  Valid Loss: 0.075..  Valid Accuracy: 0.817\n",
      "Epoch: 8/10..  Training Loss: 1.795..  Valid Loss: 0.076..  Valid Accuracy: 0.827\n",
      "Epoch: 9/10..  Training Loss: 0.951..  Valid Loss: 0.078..  Valid Accuracy: 0.805\n",
      "Epoch: 9/10..  Training Loss: 1.748..  Valid Loss: 0.082..  Valid Accuracy: 0.816\n",
      "Epoch: 10/10..  Training Loss: 0.828..  Valid Loss: 0.062..  Valid Accuracy: 0.834\n",
      "Epoch: 10/10..  Training Loss: 1.704..  Valid Loss: 0.069..  Valid Accuracy: 0.854\n"
     ]
    }
   ],
   "source": [
    "epochs = 10\n",
    "steps = 0\n",
    "print_every = 50\n",
    "\n",
    "model.to(device)\n",
    "\n",
    "for e in range(epochs):\n",
    "    running_loss=0\n",
    "    for inputs, labels in trainloader:\n",
    "        steps += 1\n",
    "        \n",
    "        inputs, labels = inputs.to(device), labels.to(device)\n",
    "                \n",
    "        optimizer.zero_grad()\n",
    "        \n",
    "        outputs = model.forward(inputs)\n",
    "        loss = criterion(outputs, labels)\n",
    "        loss.backward()\n",
    "        optimizer.step()\n",
    "        \n",
    "        running_loss += loss.item()\n",
    "        \n",
    "        if steps % print_every == 0:\n",
    "            # Put model in eval mode\n",
    "            model.eval()\n",
    "            \n",
    "            with torch.no_grad():\n",
    "                valid_loss, accuracy = validation(model, validloader, criterion)\n",
    "            \n",
    "            print(\"Epoch: {}/{}.. \".format(e+1, epochs),\n",
    "                  \"Training Loss: {:.3f}.. \".format(running_loss/print_every),\n",
    "                  \"Valid Loss: {:.3f}.. \".format(valid_loss/len(validloader)),\n",
    "                  \"Valid Accuracy: {:.3f}\".format(accuracy/len(validloader)))\n",
    "            \n",
    "            running_loss = 0\n",
    "            \n",
    "            model.train()"
   ]
  },
  {
   "cell_type": "markdown",
   "metadata": {},
   "source": [
    "## Testing your network\n",
    "\n",
    "It's good practice to test your trained network on test data, images the network has never seen either in training or validation. This will give you a good estimate for the model's performance on completely new images. Run the test images through the network and measure the accuracy, the same way you did validation. You should be able to reach around 70% accuracy on the test set if the model has been trained well."
   ]
  },
  {
   "cell_type": "code",
   "execution_count": 55,
   "metadata": {},
   "outputs": [
    {
     "name": "stdout",
     "output_type": "stream",
     "text": [
      "Test-Loss: 0.08976578712463379\n",
      " Test-Accuracy: 0.7829704284667969\n"
     ]
    }
   ],
   "source": [
    "# Do validation on the test set\n",
    "test_loss = 0\n",
    "accuracy = 0\n",
    "\n",
    "model.eval()\n",
    "\n",
    "with torch.no_grad():\n",
    "    for inputs, labels in testloader:\n",
    "\n",
    "        inputs, labels = inputs.to(device), labels.to(device)\n",
    "\n",
    "        output = model.forward(inputs)\n",
    "        test_loss = criterion(output, labels).item()\n",
    "\n",
    "        ps = torch.exp(output)\n",
    "        equality = (labels.data == ps.max(dim=1)[1])\n",
    "        accuracy += equality.type(torch.FloatTensor).mean()\n",
    "\n",
    "print(\"Test-Loss: {}\\n\".format(test_loss/len(testloader)),\n",
    "     \"Test-Accuracy: {}\".format(accuracy/len(testloader)))"
   ]
  },
  {
   "cell_type": "markdown",
   "metadata": {},
   "source": [
    "## Save the checkpoint\n",
    "\n",
    "Now that your network is trained, save the model so you can load it later for making predictions. You probably want to save other things such as the mapping of classes to indices which you get from one of the image datasets: `image_datasets['train'].class_to_idx`. You can attach this to the model as an attribute which makes inference easier later on.\n",
    "\n",
    "```model.class_to_idx = image_datasets['train'].class_to_idx```\n",
    "\n",
    "Remember that you'll want to completely rebuild the model later so you can use it for inference. Make sure to include any information you need in the checkpoint. If you want to load the model and keep training, you'll want to save the number of epochs as well as the optimizer state, `optimizer.state_dict`. You'll likely want to use this trained model in the next part of the project, so best to save it now."
   ]
  },
  {
   "cell_type": "code",
   "execution_count": 72,
   "metadata": {},
   "outputs": [],
   "source": [
    "# Save the checkpoint\n",
    "\n",
    "checkpoint = {\n",
    "    'input_size': model.classifier[0].in_features,\n",
    "    'batch_size': trainloader.batch_size,\n",
    "    'state_dict': model.classifier.state_dict(),\n",
    "    'class_to_idx': train_data.class_to_idx,\n",
    "    'output_size': 102,\n",
    "    'classifier': model.classifier\n",
    "}\n",
    "\n",
    "torch.save(checkpoint, 'checkpoints/checkpoint.pth')"
   ]
  },
  {
   "cell_type": "code",
   "execution_count": 74,
   "metadata": {},
   "outputs": [
    {
     "name": "stdout",
     "output_type": "stream",
     "text": [
      "{'1': 0, '10': 1, '100': 2, '101': 3, '102': 4, '11': 5, '12': 6, '13': 7, '14': 8, '15': 9, '16': 10, '17': 11, '18': 12, '19': 13, '2': 14, '20': 15, '21': 16, '22': 17, '23': 18, '24': 19, '25': 20, '26': 21, '27': 22, '28': 23, '29': 24, '3': 25, '30': 26, '31': 27, '32': 28, '33': 29, '34': 30, '35': 31, '36': 32, '37': 33, '38': 34, '39': 35, '4': 36, '40': 37, '41': 38, '42': 39, '43': 40, '44': 41, '45': 42, '46': 43, '47': 44, '48': 45, '49': 46, '5': 47, '50': 48, '51': 49, '52': 50, '53': 51, '54': 52, '55': 53, '56': 54, '57': 55, '58': 56, '59': 57, '6': 58, '60': 59, '61': 60, '62': 61, '63': 62, '64': 63, '65': 64, '66': 65, '67': 66, '68': 67, '69': 68, '7': 69, '70': 70, '71': 71, '72': 72, '73': 73, '74': 74, '75': 75, '76': 76, '77': 77, '78': 78, '79': 79, '8': 80, '80': 81, '81': 82, '82': 83, '83': 84, '84': 85, '85': 86, '86': 87, '87': 88, '88': 89, '89': 90, '9': 91, '90': 92, '91': 93, '92': 94, '93': 95, '94': 96, '95': 97, '96': 98, '97': 99, '98': 100, '99': 101}\n"
     ]
    }
   ],
   "source": [
    "print(train_data.class_to_idx)"
   ]
  },
  {
   "cell_type": "markdown",
   "metadata": {},
   "source": [
    "## Loading the checkpoint\n",
    "\n",
    "At this point it's good to write a function that can load a checkpoint and rebuild the model. That way you can come back to this project and keep working on it without having to retrain the network."
   ]
  },
  {
   "cell_type": "code",
   "execution_count": 78,
   "metadata": {},
   "outputs": [],
   "source": [
    "# Write a function that loads a checkpoint and rebuilds the model\n",
    "\n",
    "def load_checkpoint(filepath):\n",
    "    checkpoint = torch.load(filepath)\n",
    "    \n",
    "    # Restoring Model with model.classifier\n",
    "    model = models.vgg16(pretrained=True)\n",
    "    classifier = checkpoint['classifier']\n",
    "    model.classifier = classifier\n",
    "    # Restoring model.classifier.state_dict()\n",
    "    model.classifier.load_state_dict(checkpoint['state_dict'])\n",
    "    # Saving class_to_idx\n",
    "    train_dataset_idx = checkpoint['class_to_idx']\n",
    "    \n",
    "    return model, train_dataset_idx\n",
    "\n",
    "model, train_data.class_to_idx = load_checkpoint('checkpoints/checkpoint.pth')\n",
    "    "
   ]
  },
  {
   "cell_type": "markdown",
   "metadata": {},
   "source": [
    "# Inference for classification\n",
    "\n",
    "Now you'll write a function to use a trained network for inference. That is, you'll pass an image into the network and predict the class of the flower in the image. Write a function called `predict` that takes an image and a model, then returns the top $K$ most likely classes along with the probabilities. It should look like \n",
    "\n",
    "```python\n",
    "probs, classes = predict(image_path, model)\n",
    "print(probs)\n",
    "print(classes)\n",
    "> [ 0.01558163  0.01541934  0.01452626  0.01443549  0.01407339]\n",
    "> ['70', '3', '45', '62', '55']\n",
    "```\n",
    "\n",
    "First you'll need to handle processing the input image such that it can be used in your network. \n",
    "\n",
    "## Image Preprocessing\n",
    "\n",
    "You'll want to use `PIL` to load the image ([documentation](https://pillow.readthedocs.io/en/latest/reference/Image.html)). It's best to write a function that preprocesses the image so it can be used as input for the model. This function should process the images in the same manner used for training. \n",
    "\n",
    "First, resize the images where the shortest side is 256 pixels, keeping the aspect ratio. This can be done with the [`thumbnail`](http://pillow.readthedocs.io/en/3.1.x/reference/Image.html#PIL.Image.Image.thumbnail) or [`resize`](http://pillow.readthedocs.io/en/3.1.x/reference/Image.html#PIL.Image.Image.thumbnail) methods. Then you'll need to crop out the center 224x224 portion of the image.\n",
    "\n",
    "Color channels of images are typically encoded as integers 0-255, but the model expected floats 0-1. You'll need to convert the values. It's easiest with a Numpy array, which you can get from a PIL image like so `np_image = np.array(pil_image)`.\n",
    "\n",
    "As before, the network expects the images to be normalized in a specific way. For the means, it's `[0.485, 0.456, 0.406]` and for the standard deviations `[0.229, 0.224, 0.225]`. You'll want to subtract the means from each color channel, then divide by the standard deviation. \n",
    "\n",
    "And finally, PyTorch expects the color channel to be the first dimension but it's the third dimension in the PIL image and Numpy array. You can reorder dimensions using [`ndarray.transpose`](https://docs.scipy.org/doc/numpy-1.13.0/reference/generated/numpy.ndarray.transpose.html). The color channel needs to be first and retain the order of the other two dimensions."
   ]
  },
  {
   "cell_type": "code",
   "execution_count": null,
   "metadata": {},
   "outputs": [],
   "source": [
    "def process_image(image):\n",
    "    ''' Scales, crops, and normalizes a PIL image for a PyTorch model,\n",
    "        returns an Numpy array\n",
    "    '''\n",
    "    \n",
    "    # TODO: Process a PIL image for use in a PyTorch model"
   ]
  },
  {
   "cell_type": "markdown",
   "metadata": {},
   "source": [
    "To check your work, the function below converts a PyTorch tensor and displays it in the notebook. If your `process_image` function works, running the output through this function should return the original image (except for the cropped out portions)."
   ]
  },
  {
   "cell_type": "code",
   "execution_count": null,
   "metadata": {},
   "outputs": [],
   "source": [
    "def imshow(image, ax=None, title=None):\n",
    "    \"\"\"Imshow for Tensor.\"\"\"\n",
    "    if ax is None:\n",
    "        fig, ax = plt.subplots()\n",
    "    \n",
    "    # PyTorch tensors assume the color channel is the first dimension\n",
    "    # but matplotlib assumes is the third dimension\n",
    "    image = image.numpy().transpose((1, 2, 0))\n",
    "    \n",
    "    # Undo preprocessing\n",
    "    mean = np.array([0.485, 0.456, 0.406])\n",
    "    std = np.array([0.229, 0.224, 0.225])\n",
    "    image = std * image + mean\n",
    "    \n",
    "    # Image needs to be clipped between 0 and 1 or it looks like noise when displayed\n",
    "    image = np.clip(image, 0, 1)\n",
    "    \n",
    "    ax.imshow(image)\n",
    "    \n",
    "    return ax"
   ]
  },
  {
   "cell_type": "markdown",
   "metadata": {},
   "source": [
    "## Class Prediction\n",
    "\n",
    "Once you can get images in the correct format, it's time to write a function for making predictions with your model. A common practice is to predict the top 5 or so (usually called top-$K$) most probable classes. You'll want to calculate the class probabilities then find the $K$ largest values.\n",
    "\n",
    "To get the top $K$ largest values in a tensor use [`x.topk(k)`](http://pytorch.org/docs/master/torch.html#torch.topk). This method returns both the highest `k` probabilities and the indices of those probabilities corresponding to the classes. You need to convert from these indices to the actual class labels using `class_to_idx` which hopefully you added to the model or from an `ImageFolder` you used to load the data ([see here](#Save-the-checkpoint)). Make sure to invert the dictionary so you get a mapping from index to class as well.\n",
    "\n",
    "Again, this method should take a path to an image and a model checkpoint, then return the probabilities and classes.\n",
    "\n",
    "```python\n",
    "probs, classes = predict(image_path, model)\n",
    "print(probs)\n",
    "print(classes)\n",
    "> [ 0.01558163  0.01541934  0.01452626  0.01443549  0.01407339]\n",
    "> ['70', '3', '45', '62', '55']\n",
    "```"
   ]
  },
  {
   "cell_type": "code",
   "execution_count": null,
   "metadata": {},
   "outputs": [],
   "source": [
    "def predict(image_path, model, topk=5):\n",
    "    ''' Predict the class (or classes) of an image using a trained deep learning model.\n",
    "    '''\n",
    "    \n",
    "    # TODO: Implement the code to predict the class from an image file"
   ]
  },
  {
   "cell_type": "markdown",
   "metadata": {},
   "source": [
    "## Sanity Checking\n",
    "\n",
    "Now that you can use a trained model for predictions, check to make sure it makes sense. Even if the testing accuracy is high, it's always good to check that there aren't obvious bugs. Use `matplotlib` to plot the probabilities for the top 5 classes as a bar graph, along with the input image. It should look like this:\n",
    "\n",
    "<img src='assets/inference_example.png' width=300px>\n",
    "\n",
    "You can convert from the class integer encoding to actual flower names with the `cat_to_name.json` file (should have been loaded earlier in the notebook). To show a PyTorch tensor as an image, use the `imshow` function defined above."
   ]
  },
  {
   "cell_type": "code",
   "execution_count": null,
   "metadata": {},
   "outputs": [],
   "source": [
    "# TODO: Display an image along with the top 5 classes"
   ]
  }
 ],
 "metadata": {
  "kernelspec": {
   "display_name": "Python 3",
   "language": "python",
   "name": "python3"
  },
  "language_info": {
   "codemirror_mode": {
    "name": "ipython",
    "version": 3
   },
   "file_extension": ".py",
   "mimetype": "text/x-python",
   "name": "python",
   "nbconvert_exporter": "python",
   "pygments_lexer": "ipython3",
   "version": "3.6.6"
  }
 },
 "nbformat": 4,
 "nbformat_minor": 2
}
